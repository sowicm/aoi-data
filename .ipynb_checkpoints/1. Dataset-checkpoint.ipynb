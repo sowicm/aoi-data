{
 "cells": [
  {
   "cell_type": "markdown",
   "metadata": {},
   "source": [
    "## Obtain datasets\n",
    "\n",
    "We use the spidered datas of Beijing Municipal Environmental Monitoring Center. The datas contians hour by hour PM2.5/PM10/AQI and SO2/NO2/O3/CO numbers of 36 points in Beijing city."
   ]
  },
  {
   "cell_type": "code",
   "execution_count": 33,
   "metadata": {
    "collapsed": true
   },
   "outputs": [],
   "source": [
    "from __future__ import print_function\n",
    "import sqlite3\n",
    "import os\n",
    "from datetime import date, timedelta\n",
    "from six.moves.urllib.request import urlretrieve\n",
    "import uuid\n",
    "from pyquery import PyQuery as pq\n",
    "import hashlib"
   ]
  },
  {
   "cell_type": "code",
   "execution_count": 34,
   "metadata": {
    "collapsed": true
   },
   "outputs": [],
   "source": [
    "data_folder = 'data/'\n",
    "db_filename = 'beijing.sqlite'\n",
    "\n",
    "def md5(text):\n",
    "    m = hashlib.md5()\n",
    "    m.update(text)\n",
    "    return m.hexdigest()"
   ]
  },
  {
   "cell_type": "markdown",
   "metadata": {},
   "source": [
    "First, we'll download the data csv files of specific dates to our local machine."
   ]
  },
  {
   "cell_type": "raw",
   "metadata": {
    "collapsed": false
   },
   "source": [
    "start_date = date(2016, 1, 1)\n",
    "end_date = date.today()\n",
    "\n",
    "#http://beijingair.sinaapp.com/data/beijing/all/20131205/csv。\n",
    "#http://beijingair-pm25.stor.sinaapp.com/beijing_all_20131205.csv\n",
    "\n",
    "def maybe_download(date, parent_folder, force=False):\n",
    "  \"\"\"Download a file if not present.\"\"\"\n",
    "  filename = os.path.join(parent_folder, date + '.csv')\n",
    "  if force or not os.path.exists(filename):\n",
    "    filename, _ = urlretrieve('http://beijingair-pm25.stor.sinaapp.com/beijing_all_' + date + '.csv', filename)\n",
    "  return filename\n",
    "\n",
    "def load_csvs(start_date, end_date):\n",
    "    if not os.path.exists(data_folder):\n",
    "        os.makedirs(data_folder)\n",
    "    d = start_date\n",
    "    results = []\n",
    "    while d < end_date:\n",
    "        results.append( maybe_download(d.strftime(\"%Y%m%d\"), data_folder) )\n",
    "        d += timedelta(days = 1)\n",
    "        \n",
    "    return results\n",
    "\n",
    "csv_files = load_csvs(start_date, end_date)\n",
    "print (csv_files)"
   ]
  },
  {
   "cell_type": "markdown",
   "metadata": {},
   "source": [
    "This site is anti-spider, so downloaded data would be corrupt. Let's fix it by phantomjs later, but at this moment, we use the data from Baidu disk."
   ]
  },
  {
   "cell_type": "raw",
   "metadata": {
    "collapsed": false
   },
   "source": [
    "csv_files = [\n",
    "    os.path.join(data_folder, d) for d in sorted(os.listdir(data_folder))\n",
    "    if d.endswith('.csv')]\n",
    "print (csv_files)"
   ]
  },
  {
   "cell_type": "markdown",
   "metadata": {},
   "source": [
    "Now let's import csv files to sqlite database."
   ]
  },
  {
   "cell_type": "markdown",
   "metadata": {},
   "source": [
    "CREATE TABLE AQI (\n",
    "  uuid text PRIMARY KEY NOT NULL,\n",
    "  date char(16),\n",
    "  hour integer(128),\n",
    "  type text(128),\n",
    "  point text(128),\n",
    "  value integer(128)\n",
    ");\n",
    "\n",
    "CREATE TABLE Points (\n",
    "  name text PRIMARY KEY NOT NULL,\n",
    "  longitude text(128),\n",
    "  dimension text(128)\n",
    ");"
   ]
  },
  {
   "cell_type": "raw",
   "metadata": {
    "collapsed": false
   },
   "source": [
    "def import_csv_to_sqlite(files):\n",
    "    conn = sqlite3.connect(db_filename)\n",
    "    for fn in files:\n",
    "        print(fn)\n",
    "        with open(fn, 'rb') as f:\n",
    "            line = f.readline()\n",
    "            #print(line)\n",
    "            header = line.split(',')\n",
    "            #print(header)\n",
    "            line = f.readline()\n",
    "            while line:\n",
    "                line = line.replace('\\n','')\n",
    "                line = line.replace('\\r','')\n",
    "                #print(line)\n",
    "                row = line.split(',')\n",
    "                thedate = row[0]\n",
    "                thehour = row[1]\n",
    "                thetype = row[2]\n",
    "                for i in xrange(len(row)):\n",
    "                    if i < 3:\n",
    "                        continue\n",
    "                    if len(row[i]) < 1:\n",
    "                        continue\n",
    "                    if i >= len(header):\n",
    "                        break\n",
    "                    #print(i)\n",
    "                    conn.execute(\\\n",
    "                        \"insert into AQI (`uuid`, `date`, `hour`, `type`, `point`, `value`) values \" + \\\n",
    "                         \"('%s','%s',%s,'%s','%s',%s);\" % (uuid.uuid1(), thedate, thehour, thetype, header[i], row[i]))\n",
    "                    conn.commit()\n",
    "                    \n",
    "                line = f.readline()\n",
    "    conn.close()\n",
    "\n",
    "import_csv_to_sqlite(csv_files)\n",
    "\n",
    "\n"
   ]
  },
  {
   "cell_type": "markdown",
   "metadata": {},
   "source": [
    "Get the latitude and longitude of monitoring points"
   ]
  },
  {
   "cell_type": "raw",
   "metadata": {
    "collapsed": false
   },
   "source": [
    "t = pq(url = 'http://beijingair.sinaapp.com')\n",
    "div = pq(t('.col-lg-12')[2])\n",
    "trs = div('tr')\n",
    "i = -1\n",
    "conn = sqlite3.connect(db_filename)\n",
    "for tr in trs:\n",
    "    name = ''\n",
    "    for td in pq(tr).children():\n",
    "        i += 1\n",
    "        if i < 4:\n",
    "            continue\n",
    "        if (i % 4) == 0:\n",
    "            name = pq(td).html()\n",
    "        elif (i % 4) == 2:\n",
    "            longitude = pq(td).html()\n",
    "        elif (i % 4) == 3:\n",
    "            #print(name + ':' + longitude + ',' + pq(td).html())\n",
    "            conn.execute(\\\n",
    "                    \"replace into Points (`name`, `longitude`, `dimension`) values \" + \\\n",
    "                    \"('%s','%s','%s');\" % (name, longitude, pq(td).html()))\n",
    "            conn.commit()\n",
    "            "
   ]
  },
  {
   "cell_type": "markdown",
   "metadata": {
    "collapsed": true
   },
   "source": [
    "Append lat, lon of monitoring points of Tianjin and Hebei"
   ]
  },
  {
   "cell_type": "code",
   "execution_count": 40,
   "metadata": {
    "collapsed": false
   },
   "outputs": [],
   "source": [
    "def import_points_csv_to_sqlite(filename, state):\n",
    "    conn = sqlite3.connect(db_filename)\n",
    "    with open(filename, 'rb') as f:\n",
    "        line = f.readline()\n",
    "        #print(line)\n",
    "        header = line.split(',')\n",
    "        #print(header)\n",
    "        line = f.readline()\n",
    "        while line:\n",
    "            line = line.replace('\\n','')\n",
    "            line = line.replace('\\r','')\n",
    "            #print(line)\n",
    "            row = line.split(',')\n",
    "            #state = row[0].strip()\n",
    "            name = row[2].strip()\n",
    "            lon = row[3]\n",
    "            lat = row[4]\n",
    "            conn.execute(\\\n",
    "                    \"insert or ignore into Stations (`md5id`, `name`, `latitude`, `longitude`, `state`) values \" + \\\n",
    "                    \"('%s','%s',%s,%s,'%s');\" % (md5(name+state), name, lat, lon, state))\n",
    "            conn.commit()\n",
    "\n",
    "            line = f.readline()\n",
    "    conn.close()\n",
    "    \n",
    "import_points_csv_to_sqlite('points-beijing.csv', 'beijing')\n",
    "import_points_csv_to_sqlite('points-hebei.csv', 'hebei')\n",
    "import_points_csv_to_sqlite('points-tianjin.csv', 'tianjin')"
   ]
  },
  {
   "cell_type": "markdown",
   "metadata": {
    "collapsed": true
   },
   "source": [
    "AQI datas of Tianjin and Hebei"
   ]
  },
  {
   "cell_type": "code",
   "execution_count": 41,
   "metadata": {
    "collapsed": false
   },
   "outputs": [
    {
     "name": "stdout",
     "output_type": "stream",
     "text": [
      "data/beijing/北京市国控站点数据/北京市-station_realtime-2013-01.csv\n",
      "data/beijing/北京市国控站点数据/北京市-station_realtime-2013-02.csv\n",
      "data/beijing/北京市国控站点数据/北京市-station_realtime-2013-03.csv\n",
      "data/beijing/北京市国控站点数据/北京市-station_realtime-2013-04.csv\n",
      "data/beijing/北京市国控站点数据/北京市-station_realtime-2013-05.csv\n",
      "data/beijing/北京市国控站点数据/北京市-station_realtime-2013-06.csv\n",
      "data/beijing/北京市国控站点数据/北京市-station_realtime-2013-07.csv\n",
      "data/beijing/北京市国控站点数据/北京市-station_realtime-2013-08.csv\n",
      "data/beijing/北京市国控站点数据/北京市-station_realtime-2013-09.csv\n",
      "data/beijing/北京市国控站点数据/北京市-station_realtime-2013-10.csv\n",
      "data/beijing/北京市国控站点数据/北京市-station_realtime-2013-11.csv\n",
      "data/beijing/北京市国控站点数据/北京市-station_realtime-2013-12.csv\n",
      "data/beijing/北京市国控站点数据/北京市-station_realtime-2014-01.csv\n",
      "data/beijing/北京市国控站点数据/北京市-station_realtime-2014-02.csv\n",
      "data/beijing/北京市国控站点数据/北京市-station_realtime-2014-03.csv\n",
      "data/beijing/北京市国控站点数据/北京市-station_realtime-2014-04.csv\n",
      "data/beijing/北京市国控站点数据/北京市-station_realtime-2014-05.csv\n",
      "data/beijing/北京市国控站点数据/北京市-station_realtime-2014-06.csv\n",
      "data/beijing/北京市国控站点数据/北京市-station_realtime-2014-07.csv\n",
      "data/beijing/北京市国控站点数据/北京市-station_realtime-2014-08.csv\n",
      "data/beijing/北京市国控站点数据/北京市-station_realtime-2014-09.csv\n",
      "data/beijing/北京市国控站点数据/北京市-station_realtime-2014-10.csv\n",
      "data/beijing/北京市国控站点数据/北京市-station_realtime-2014-11.csv\n",
      "data/beijing/北京市国控站点数据/北京市-station_realtime-2014-12.csv\n",
      "data/beijing/北京市国控站点数据/北京市-station_realtime-2015-01.csv\n",
      "data/beijing/北京市国控站点数据/北京市-station_realtime-2015-02.csv\n",
      "data/beijing/北京市国控站点数据/北京市-station_realtime-2015-03.csv\n",
      "data/beijing/北京市国控站点数据/北京市-station_realtime-2015-04.csv\n",
      "data/beijing/北京市国控站点数据/北京市-station_realtime-2015-05.csv\n",
      "data/beijing/北京市国控站点数据/北京市-station_realtime-2015-06.csv\n",
      "data/beijing/北京市国控站点数据/北京市-station_realtime-2015-07.csv\n",
      "data/beijing/北京市国控站点数据/北京市-station_realtime-2015-08.csv\n",
      "data/beijing/北京市国控站点数据/北京市-station_realtime-2015-09.csv\n",
      "data/beijing/北京市国控站点数据/北京市-station_realtime-2015-10.csv\n",
      "data/beijing/北京市国控站点数据/北京市-station_realtime-2015-11.csv\n",
      "data/beijing/北京市国控站点数据/北京市-station_realtime-2015-12.csv\n",
      "data/beijing/北京市国控站点数据/北京市-station_realtime-2016-01.csv\n",
      "data/beijing/北京市国控站点数据/北京市-station_realtime-2016-02.csv\n",
      "data/beijing/北京市国控站点数据/北京市-station_realtime-2016-03.csv\n",
      "data/beijing/北京市省控站点/北京市-station_realtime-2013-12.csv\n",
      "data/beijing/北京市省控站点/北京市-station_realtime-2014-01.csv\n",
      "data/beijing/北京市省控站点/北京市-station_realtime-2014-02.csv\n",
      "data/beijing/北京市省控站点/北京市-station_realtime-2014-03.csv\n",
      "data/beijing/北京市省控站点/北京市-station_realtime-2014-04.csv\n",
      "data/beijing/北京市省控站点/北京市-station_realtime-2014-05.csv\n",
      "data/beijing/北京市省控站点/北京市-station_realtime-2014-06.csv\n",
      "data/beijing/北京市省控站点/北京市-station_realtime-2014-07.csv\n",
      "data/beijing/北京市省控站点/北京市-station_realtime-2014-08.csv\n",
      "data/beijing/北京市省控站点/北京市-station_realtime-2014-09.csv\n",
      "data/beijing/北京市省控站点/北京市-station_realtime-2014-10.csv\n",
      "data/beijing/北京市省控站点/北京市-station_realtime-2014-11.csv\n",
      "data/beijing/北京市省控站点/北京市-station_realtime-2014-12.csv\n",
      "data/beijing/北京市省控站点/北京市-station_realtime-2015-01.csv\n",
      "data/beijing/北京市省控站点/北京市-station_realtime-2015-02.csv\n",
      "data/beijing/北京市省控站点/北京市-station_realtime-2015-03.csv\n",
      "data/beijing/北京市省控站点/北京市-station_realtime-2015-04.csv\n",
      "data/beijing/北京市省控站点/北京市-station_realtime-2015-05.csv\n",
      "data/beijing/北京市省控站点/北京市-station_realtime-2015-06.csv\n",
      "data/beijing/北京市省控站点/北京市-station_realtime-2015-07.csv\n",
      "data/beijing/北京市省控站点/北京市-station_realtime-2015-08.csv\n",
      "data/beijing/北京市省控站点/北京市-station_realtime-2015-09.csv\n",
      "data/beijing/北京市省控站点/北京市-station_realtime-2015-10.csv\n",
      "data/beijing/北京市省控站点/北京市-station_realtime-2015-11.csv\n",
      "data/beijing/北京市省控站点/北京市-station_realtime-2015-12.csv\n",
      "data/beijing/北京市省控站点/北京市-station_realtime-2016-01.csv\n",
      "data/beijing/北京市省控站点/北京市-station_realtime-2016-02.csv\n",
      "data/beijing/北京市省控站点/北京市-station_realtime-2016-03.csv\n",
      "data/hebei/河北省国控站点数据/河北省-station_realtime-2013-01.csv\n",
      "data/hebei/河北省国控站点数据/河北省-station_realtime-2013-02.csv\n",
      "data/hebei/河北省国控站点数据/河北省-station_realtime-2013-03.csv\n",
      "data/hebei/河北省国控站点数据/河北省-station_realtime-2013-04.csv\n",
      "data/hebei/河北省国控站点数据/河北省-station_realtime-2013-05.csv\n",
      "data/hebei/河北省国控站点数据/河北省-station_realtime-2013-06.csv\n",
      "data/hebei/河北省国控站点数据/河北省-station_realtime-2013-07.csv\n",
      "data/hebei/河北省国控站点数据/河北省-station_realtime-2013-08.csv\n",
      "data/hebei/河北省国控站点数据/河北省-station_realtime-2013-09.csv\n",
      "data/hebei/河北省国控站点数据/河北省-station_realtime-2013-10.csv\n",
      "data/hebei/河北省国控站点数据/河北省-station_realtime-2013-11.csv\n",
      "data/hebei/河北省国控站点数据/河北省-station_realtime-2013-12.csv\n",
      "data/hebei/河北省国控站点数据/河北省-station_realtime-2014-01.csv\n",
      "data/hebei/河北省国控站点数据/河北省-station_realtime-2014-02.csv\n",
      "data/hebei/河北省国控站点数据/河北省-station_realtime-2014-03.csv\n",
      "data/hebei/河北省国控站点数据/河北省-station_realtime-2014-04.csv\n",
      "data/hebei/河北省国控站点数据/河北省-station_realtime-2014-05.csv\n",
      "data/hebei/河北省国控站点数据/河北省-station_realtime-2014-06.csv\n",
      "data/hebei/河北省国控站点数据/河北省-station_realtime-2014-07.csv\n",
      "data/hebei/河北省国控站点数据/河北省-station_realtime-2014-08.csv\n",
      "data/hebei/河北省国控站点数据/河北省-station_realtime-2014-09.csv\n",
      "data/hebei/河北省国控站点数据/河北省-station_realtime-2014-10.csv\n",
      "data/hebei/河北省国控站点数据/河北省-station_realtime-2014-11.csv\n",
      "data/hebei/河北省国控站点数据/河北省-station_realtime-2014-12.csv\n",
      "data/hebei/河北省国控站点数据/河北省-station_realtime-2015-01.csv\n",
      "data/hebei/河北省国控站点数据/河北省-station_realtime-2015-02.csv\n",
      "data/hebei/河北省国控站点数据/河北省-station_realtime-2015-03.csv\n",
      "data/hebei/河北省国控站点数据/河北省-station_realtime-2015-04.csv\n",
      "data/hebei/河北省国控站点数据/河北省-station_realtime-2015-05.csv\n",
      "data/hebei/河北省国控站点数据/河北省-station_realtime-2015-06.csv\n",
      "data/hebei/河北省国控站点数据/河北省-station_realtime-2015-07.csv\n",
      "data/hebei/河北省国控站点数据/河北省-station_realtime-2015-08.csv\n",
      "data/hebei/河北省国控站点数据/河北省-station_realtime-2015-09.csv\n",
      "data/hebei/河北省国控站点数据/河北省-station_realtime-2015-10.csv\n",
      "data/hebei/河北省国控站点数据/河北省-station_realtime-2015-11.csv\n",
      "data/hebei/河北省国控站点数据/河北省-station_realtime-2015-12.csv\n",
      "data/hebei/河北省国控站点数据/河北省-station_realtime-2016-01.csv\n",
      "data/hebei/河北省国控站点数据/河北省-station_realtime-2016-02.csv\n",
      "data/hebei/河北省国控站点数据/河北省-station_realtime-2016-03.csv\n",
      "data/hebei/河北省省控站点数据/河北省-station_realtime-2015-01.csv\n",
      "data/hebei/河北省省控站点数据/河北省-station_realtime-2015-12.csv\n",
      "data/hebei/河北省省控站点数据/河北省-station_realtime-2016-01.csv\n",
      "data/hebei/河北省省控站点数据/河北省-station_realtime-2016-02.csv\n",
      "data/hebei/河北省省控站点数据/河北省-station_realtime-2016-03.csv\n",
      "data/tianjin/天津市国控站点数据/天津市-station_realtime-2013-01.csv\n",
      "data/tianjin/天津市国控站点数据/天津市-station_realtime-2013-02.csv\n",
      "data/tianjin/天津市国控站点数据/天津市-station_realtime-2013-03.csv\n",
      "data/tianjin/天津市国控站点数据/天津市-station_realtime-2013-04.csv\n",
      "data/tianjin/天津市国控站点数据/天津市-station_realtime-2013-05.csv\n",
      "data/tianjin/天津市国控站点数据/天津市-station_realtime-2013-06.csv\n",
      "data/tianjin/天津市国控站点数据/天津市-station_realtime-2013-07.csv\n",
      "data/tianjin/天津市国控站点数据/天津市-station_realtime-2013-08.csv\n",
      "data/tianjin/天津市国控站点数据/天津市-station_realtime-2013-09.csv\n",
      "data/tianjin/天津市国控站点数据/天津市-station_realtime-2013-10.csv\n",
      "data/tianjin/天津市国控站点数据/天津市-station_realtime-2013-11.csv\n",
      "data/tianjin/天津市国控站点数据/天津市-station_realtime-2013-12.csv\n",
      "data/tianjin/天津市国控站点数据/天津市-station_realtime-2014-01.csv\n",
      "data/tianjin/天津市国控站点数据/天津市-station_realtime-2014-02.csv\n",
      "data/tianjin/天津市国控站点数据/天津市-station_realtime-2014-03.csv\n",
      "data/tianjin/天津市国控站点数据/天津市-station_realtime-2014-04.csv\n",
      "data/tianjin/天津市国控站点数据/天津市-station_realtime-2014-05.csv\n",
      "data/tianjin/天津市国控站点数据/天津市-station_realtime-2014-06.csv\n",
      "data/tianjin/天津市国控站点数据/天津市-station_realtime-2014-07.csv\n",
      "data/tianjin/天津市国控站点数据/天津市-station_realtime-2014-08.csv\n",
      "data/tianjin/天津市国控站点数据/天津市-station_realtime-2014-09.csv\n",
      "data/tianjin/天津市国控站点数据/天津市-station_realtime-2014-10.csv\n",
      "data/tianjin/天津市国控站点数据/天津市-station_realtime-2014-11.csv\n",
      "data/tianjin/天津市国控站点数据/天津市-station_realtime-2014-12.csv\n",
      "data/tianjin/天津市国控站点数据/天津市-station_realtime-2015-01.csv\n",
      "data/tianjin/天津市国控站点数据/天津市-station_realtime-2015-02.csv\n",
      "data/tianjin/天津市国控站点数据/天津市-station_realtime-2015-03.csv\n",
      "data/tianjin/天津市国控站点数据/天津市-station_realtime-2015-04.csv\n",
      "data/tianjin/天津市国控站点数据/天津市-station_realtime-2015-05.csv\n",
      "data/tianjin/天津市国控站点数据/天津市-station_realtime-2015-06.csv\n",
      "data/tianjin/天津市国控站点数据/天津市-station_realtime-2015-07.csv\n",
      "data/tianjin/天津市国控站点数据/天津市-station_realtime-2015-08.csv\n",
      "data/tianjin/天津市国控站点数据/天津市-station_realtime-2015-09.csv\n",
      "data/tianjin/天津市国控站点数据/天津市-station_realtime-2015-10.csv\n",
      "data/tianjin/天津市国控站点数据/天津市-station_realtime-2015-11.csv\n",
      "data/tianjin/天津市国控站点数据/天津市-station_realtime-2015-12.csv\n",
      "data/tianjin/天津市国控站点数据/天津市-station_realtime-2016-01.csv\n",
      "data/tianjin/天津市国控站点数据/天津市-station_realtime-2016-02.csv\n",
      "data/tianjin/天津市国控站点数据/天津市-station_realtime-2016-03.csv\n",
      "data/tianjin/天津市省控站点数据/天津市-station_realtime-2015-12.csv\n",
      "data/tianjin/天津市省控站点数据/天津市-station_realtime-2016-01.csv\n",
      "data/tianjin/天津市省控站点数据/天津市-station_realtime-2016-02.csv\n",
      "data/tianjin/天津市省控站点数据/天津市-station_realtime-2016-03.csv\n"
     ]
    }
   ],
   "source": [
    "def check_data_folders(state):\n",
    "    state_folder = os.path.join(data_folder, state);\n",
    "    data_folders = [\n",
    "        os.path.join(state_folder, d) for d in sorted(os.listdir(state_folder))\n",
    "        if os.path.isdir(os.path.join(state_folder, d))]\n",
    "    csv_files = []\n",
    "    for folder in data_folders:\n",
    "        csv_files.extend([\n",
    "            os.path.join(folder, d) for d in sorted(os.listdir(folder))\n",
    "                if d.endswith('.csv')])\n",
    "    print('\\n'.join(csv_files))\n",
    "    return csv_files\n",
    "\n",
    "beijing_csv_files = check_data_folders('beijing')\n",
    "hebei_csv_files = check_data_folders('hebei')\n",
    "tianjin_csv_files = check_data_folders('tianjin')\n"
   ]
  },
  {
   "cell_type": "code",
   "execution_count": 70,
   "metadata": {
    "collapsed": false
   },
   "outputs": [],
   "source": [
    "sql_query = \"\"\"insert or ignore into AQI (`md5id`, `date`, `station`, `state`, `aqi`, `so2`, `so2_24h`, `no2`,\n",
    "`no2_24h`, `co`, `co_24h`, `o3`, `o3_24h`, `o3_8h`, `o3_8h_24h`, `pm10`, `pm10_24h`, `pm2_5`, `pm2_5_24h`) values (?,?,?,?,?,?,?,?,?,?,?,?,?,?,?,?,?,?,?);\n",
    "\"\"\"\n",
    "\n",
    "def import_csv2_to_sqlite(files, state):\n",
    "    conn = sqlite3.connect(db_filename)\n",
    "    conn.text_factory = str\n",
    "    for fn in files:\n",
    "        print(fn)\n",
    "        db_values = []\n",
    "        with open(fn, 'rb') as f:\n",
    "            line = f.readline()\n",
    "            #print(line)\n",
    "#             line = line.replace('aqi', 'AQI')\n",
    "#             line = line.replace('so2', 'SO2')\n",
    "#             line = line.replace('no2', 'NO2')\n",
    "#             line = line.replace('co', 'CO')\n",
    "#             line = line.replace('o3', 'O3')\n",
    "#             line = line.replace('pm', 'PM')\n",
    "#             line = line.replace('PM2_5', 'PM2.5')\n",
    "            header = line.split(',')\n",
    "            #print(header)\n",
    "#             for i in xrange(len(header)):\n",
    "#                 if header[i] == 'aqi':\n",
    "#                     header[i] = 'AQI'\n",
    "#                 elif header[i] == 'so2':\n",
    "#                     header[i] = 'SO2'         \n",
    "            line = f.readline()\n",
    "            while line:\n",
    "                line = line.replace('\\n','')\n",
    "                line = line.replace('\\r','')\n",
    "                #print(line)\n",
    "                row = line.split(',')\n",
    "                thedate = row[23]\n",
    "#                datestr = row[23].split(' ')\n",
    "#                 thedate = datestr[0].replace('-', '')\n",
    "#                 thehour = datestr[1].split(':')[0]\n",
    "                station = row[3]\n",
    "                db_values.append( \\\n",
    "                        (md5(thedate+station+state), thedate, station, state, row[8], row[9], row[10], row[11], \\\n",
    "                         row[12], row[13], row[14], row[15], row[16], row[17], row[18], row[19], row[20], \\\n",
    "                         row[21], row[22]) )\n",
    "    \n",
    "\n",
    "    \n",
    "                # 8 to 22\n",
    "#                 for i in xrange(len(row)):\n",
    "#                     if i < 8 or i > 22:\n",
    "#                         continue\n",
    "#                     if len(row[i]) < 1:\n",
    "#                         continue\n",
    "#                     if i >= len(header):\n",
    "#                         break\n",
    "#                     #print(i)\n",
    "#                     conn.execute(\\\n",
    "#                         \"insert into AQI (`uuid`, `date`, `hour`, `type`, `point`, `value`, `state`) values \" + \\\n",
    "#                          \"('%s','%s',%s,'%s','%s',%s,'%s');\" % (uuid.uuid1(), thedate, thehour, header[i], \\\n",
    "#                                                                 thepoint, row[i], state))\n",
    "#                     conn.commit()\n",
    "                    \n",
    "                line = f.readline()\n",
    "                conn.executemany(sql_query, db_values)\n",
    "                        #\"('%s','%s','%s','%s',%s,%s,%s,%s,%s,%s,%s,%s,%s,%s,%s,%s,%s,%s,%s);\" % \\\n",
    "                        \n",
    "                conn.commit()\n",
    "    conn.close()\n"
   ]
  },
  {
   "cell_type": "code",
   "execution_count": 71,
   "metadata": {
    "collapsed": false
   },
   "outputs": [
    {
     "name": "stdout",
     "output_type": "stream",
     "text": [
      "data/beijing/北京市国控站点数据/北京市-station_realtime-2013-01.csv\n",
      "data/beijing/北京市国控站点数据/北京市-station_realtime-2013-02.csv\n",
      "data/beijing/北京市国控站点数据/北京市-station_realtime-2013-03.csv\n",
      "data/beijing/北京市国控站点数据/北京市-station_realtime-2013-04.csv\n",
      "data/beijing/北京市国控站点数据/北京市-station_realtime-2013-05.csv\n",
      "data/beijing/北京市国控站点数据/北京市-station_realtime-2013-06.csv\n",
      "data/beijing/北京市国控站点数据/北京市-station_realtime-2013-07.csv\n",
      "data/beijing/北京市国控站点数据/北京市-station_realtime-2013-08.csv\n",
      "data/beijing/北京市国控站点数据/北京市-station_realtime-2013-09.csv\n",
      "data/beijing/北京市国控站点数据/北京市-station_realtime-2013-10.csv\n",
      "data/beijing/北京市国控站点数据/北京市-station_realtime-2013-11.csv\n",
      "data/beijing/北京市国控站点数据/北京市-station_realtime-2013-12.csv\n",
      "data/beijing/北京市国控站点数据/北京市-station_realtime-2014-01.csv\n",
      "data/beijing/北京市国控站点数据/北京市-station_realtime-2014-02.csv\n",
      "data/beijing/北京市国控站点数据/北京市-station_realtime-2014-03.csv\n",
      "data/beijing/北京市国控站点数据/北京市-station_realtime-2014-04.csv\n",
      "data/beijing/北京市国控站点数据/北京市-station_realtime-2014-05.csv\n",
      "data/beijing/北京市国控站点数据/北京市-station_realtime-2014-06.csv\n",
      "data/beijing/北京市国控站点数据/北京市-station_realtime-2014-07.csv\n",
      "data/beijing/北京市国控站点数据/北京市-station_realtime-2014-08.csv\n",
      "data/beijing/北京市国控站点数据/北京市-station_realtime-2014-09.csv\n",
      "data/beijing/北京市国控站点数据/北京市-station_realtime-2014-10.csv\n",
      "data/beijing/北京市国控站点数据/北京市-station_realtime-2014-11.csv\n",
      "data/beijing/北京市国控站点数据/北京市-station_realtime-2014-12.csv\n",
      "data/beijing/北京市国控站点数据/北京市-station_realtime-2015-01.csv\n",
      "data/beijing/北京市国控站点数据/北京市-station_realtime-2015-02.csv\n",
      "data/beijing/北京市国控站点数据/北京市-station_realtime-2015-03.csv\n",
      "data/beijing/北京市国控站点数据/北京市-station_realtime-2015-04.csv\n",
      "data/beijing/北京市国控站点数据/北京市-station_realtime-2015-05.csv\n",
      "data/beijing/北京市国控站点数据/北京市-station_realtime-2015-06.csv\n",
      "data/beijing/北京市国控站点数据/北京市-station_realtime-2015-07.csv\n",
      "data/beijing/北京市国控站点数据/北京市-station_realtime-2015-08.csv\n",
      "data/beijing/北京市国控站点数据/北京市-station_realtime-2015-09.csv\n",
      "data/beijing/北京市国控站点数据/北京市-station_realtime-2015-10.csv\n",
      "data/beijing/北京市国控站点数据/北京市-station_realtime-2015-11.csv\n",
      "data/beijing/北京市国控站点数据/北京市-station_realtime-2015-12.csv\n",
      "data/beijing/北京市国控站点数据/北京市-station_realtime-2016-01.csv\n",
      "data/beijing/北京市国控站点数据/北京市-station_realtime-2016-02.csv\n",
      "data/beijing/北京市国控站点数据/北京市-station_realtime-2016-03.csv\n",
      "data/beijing/北京市省控站点/北京市-station_realtime-2013-12.csv\n",
      "data/beijing/北京市省控站点/北京市-station_realtime-2014-01.csv\n",
      "data/beijing/北京市省控站点/北京市-station_realtime-2014-02.csv\n",
      "data/beijing/北京市省控站点/北京市-station_realtime-2014-03.csv\n",
      "data/beijing/北京市省控站点/北京市-station_realtime-2014-04.csv\n",
      "data/beijing/北京市省控站点/北京市-station_realtime-2014-05.csv\n",
      "data/beijing/北京市省控站点/北京市-station_realtime-2014-06.csv\n",
      "data/beijing/北京市省控站点/北京市-station_realtime-2014-07.csv\n",
      "data/beijing/北京市省控站点/北京市-station_realtime-2014-08.csv\n"
     ]
    },
    {
     "ename": "KeyboardInterrupt",
     "evalue": "",
     "output_type": "error",
     "traceback": [
      "\u001b[0;31m---------------------------------------------------------------------------\u001b[0m",
      "\u001b[0;31mKeyboardInterrupt\u001b[0m                         Traceback (most recent call last)",
      "\u001b[0;32m<ipython-input-71-24156b21ca1e>\u001b[0m in \u001b[0;36m<module>\u001b[0;34m()\u001b[0m\n\u001b[0;32m----> 1\u001b[0;31m \u001b[0mimport_csv2_to_sqlite\u001b[0m\u001b[0;34m(\u001b[0m\u001b[0mbeijing_csv_files\u001b[0m\u001b[0;34m,\u001b[0m \u001b[0;34m'beijing'\u001b[0m\u001b[0;34m)\u001b[0m\u001b[0;34m\u001b[0m\u001b[0m\n\u001b[0m",
      "\u001b[0;32m<ipython-input-70-02407ef1fa70>\u001b[0m in \u001b[0;36mimport_csv2_to_sqlite\u001b[0;34m(files, state)\u001b[0m\n\u001b[1;32m     57\u001b[0m \u001b[0;34m\u001b[0m\u001b[0m\n\u001b[1;32m     58\u001b[0m                 \u001b[0mline\u001b[0m \u001b[0;34m=\u001b[0m \u001b[0mf\u001b[0m\u001b[0;34m.\u001b[0m\u001b[0mreadline\u001b[0m\u001b[0;34m(\u001b[0m\u001b[0;34m)\u001b[0m\u001b[0;34m\u001b[0m\u001b[0m\n\u001b[0;32m---> 59\u001b[0;31m                 \u001b[0mconn\u001b[0m\u001b[0;34m.\u001b[0m\u001b[0mexecutemany\u001b[0m\u001b[0;34m(\u001b[0m\u001b[0msql_query\u001b[0m\u001b[0;34m,\u001b[0m \u001b[0mdb_values\u001b[0m\u001b[0;34m)\u001b[0m\u001b[0;34m\u001b[0m\u001b[0m\n\u001b[0m\u001b[1;32m     60\u001b[0m                         \u001b[0;31m#\"('%s','%s','%s','%s',%s,%s,%s,%s,%s,%s,%s,%s,%s,%s,%s,%s,%s,%s,%s);\" % \\\u001b[0m\u001b[0;34m\u001b[0m\u001b[0;34m\u001b[0m\u001b[0m\n\u001b[1;32m     61\u001b[0m \u001b[0;34m\u001b[0m\u001b[0m\n",
      "\u001b[0;31mKeyboardInterrupt\u001b[0m: "
     ]
    }
   ],
   "source": [
    "import_csv2_to_sqlite(beijing_csv_files, 'beijing')"
   ]
  },
  {
   "cell_type": "code",
   "execution_count": 20,
   "metadata": {
    "collapsed": false
   },
   "outputs": [
    {
     "name": "stdout",
     "output_type": "stream",
     "text": [
      "data/hebei/河北省国控站点数据/河北省-station_realtime-2013-01.csv\n",
      "data/hebei/河北省国控站点数据/河北省-station_realtime-2013-02.csv\n",
      "data/hebei/河北省国控站点数据/河北省-station_realtime-2013-03.csv\n",
      "data/hebei/河北省国控站点数据/河北省-station_realtime-2013-04.csv\n",
      "data/hebei/河北省国控站点数据/河北省-station_realtime-2013-05.csv\n",
      "data/hebei/河北省国控站点数据/河北省-station_realtime-2013-06.csv\n",
      "data/hebei/河北省国控站点数据/河北省-station_realtime-2013-07.csv\n",
      "data/hebei/河北省国控站点数据/河北省-station_realtime-2013-08.csv\n",
      "data/hebei/河北省国控站点数据/河北省-station_realtime-2013-09.csv\n",
      "data/hebei/河北省国控站点数据/河北省-station_realtime-2013-10.csv\n",
      "data/hebei/河北省国控站点数据/河北省-station_realtime-2013-11.csv\n",
      "data/hebei/河北省国控站点数据/河北省-station_realtime-2013-12.csv\n",
      "data/hebei/河北省国控站点数据/河北省-station_realtime-2014-01.csv\n",
      "data/hebei/河北省国控站点数据/河北省-station_realtime-2014-02.csv\n",
      "data/hebei/河北省国控站点数据/河北省-station_realtime-2014-03.csv\n",
      "data/hebei/河北省国控站点数据/河北省-station_realtime-2014-04.csv\n",
      "data/hebei/河北省国控站点数据/河北省-station_realtime-2014-05.csv\n",
      "data/hebei/河北省国控站点数据/河北省-station_realtime-2014-06.csv\n",
      "data/hebei/河北省国控站点数据/河北省-station_realtime-2014-07.csv\n",
      "data/hebei/河北省国控站点数据/河北省-station_realtime-2014-08.csv\n",
      "data/hebei/河北省国控站点数据/河北省-station_realtime-2014-09.csv\n",
      "data/hebei/河北省国控站点数据/河北省-station_realtime-2014-10.csv\n",
      "data/hebei/河北省国控站点数据/河北省-station_realtime-2014-11.csv\n",
      "data/hebei/河北省国控站点数据/河北省-station_realtime-2014-12.csv\n",
      "data/hebei/河北省国控站点数据/河北省-station_realtime-2015-01.csv\n",
      "data/hebei/河北省国控站点数据/河北省-station_realtime-2015-02.csv\n",
      "data/hebei/河北省国控站点数据/河北省-station_realtime-2015-03.csv\n",
      "data/hebei/河北省国控站点数据/河北省-station_realtime-2015-04.csv\n",
      "data/hebei/河北省国控站点数据/河北省-station_realtime-2015-05.csv\n",
      "data/hebei/河北省国控站点数据/河北省-station_realtime-2015-06.csv\n",
      "data/hebei/河北省国控站点数据/河北省-station_realtime-2015-07.csv\n",
      "data/hebei/河北省国控站点数据/河北省-station_realtime-2015-08.csv\n",
      "data/hebei/河北省国控站点数据/河北省-station_realtime-2015-09.csv\n",
      "data/hebei/河北省国控站点数据/河北省-station_realtime-2015-10.csv\n",
      "data/hebei/河北省国控站点数据/河北省-station_realtime-2015-11.csv\n",
      "data/hebei/河北省国控站点数据/河北省-station_realtime-2015-12.csv\n",
      "data/hebei/河北省国控站点数据/河北省-station_realtime-2016-01.csv\n",
      "data/hebei/河北省国控站点数据/河北省-station_realtime-2016-02.csv\n",
      "data/hebei/河北省国控站点数据/河北省-station_realtime-2016-03.csv\n",
      "data/hebei/河北省省控站点数据/河北省-station_realtime-2015-01.csv\n"
     ]
    },
    {
     "ename": "IndexError",
     "evalue": "list index out of range",
     "output_type": "error",
     "traceback": [
      "\u001b[0;31m---------------------------------------------------------------------------\u001b[0m",
      "\u001b[0;31mIndexError\u001b[0m                                Traceback (most recent call last)",
      "\u001b[0;32m<ipython-input-20-310f5a932ad3>\u001b[0m in \u001b[0;36m<module>\u001b[0;34m()\u001b[0m\n\u001b[0;32m----> 1\u001b[0;31m \u001b[0mimport_csv2_to_sqlite\u001b[0m\u001b[0;34m(\u001b[0m\u001b[0mhebei_csv_files\u001b[0m\u001b[0;34m,\u001b[0m \u001b[0;34m'hebei'\u001b[0m\u001b[0;34m)\u001b[0m\u001b[0;34m\u001b[0m\u001b[0m\n\u001b[0m",
      "\u001b[0;32m<ipython-input-19-b5b15298c9c1>\u001b[0m in \u001b[0;36mimport_csv2_to_sqlite\u001b[0;34m(files, state)\u001b[0m\n\u001b[1;32m     28\u001b[0m                 \u001b[0mdatestr\u001b[0m \u001b[0;34m=\u001b[0m \u001b[0mrow\u001b[0m\u001b[0;34m[\u001b[0m\u001b[0;36m23\u001b[0m\u001b[0;34m]\u001b[0m\u001b[0;34m.\u001b[0m\u001b[0msplit\u001b[0m\u001b[0;34m(\u001b[0m\u001b[0;34m' '\u001b[0m\u001b[0;34m)\u001b[0m\u001b[0;34m\u001b[0m\u001b[0m\n\u001b[1;32m     29\u001b[0m                 \u001b[0mthedate\u001b[0m \u001b[0;34m=\u001b[0m \u001b[0mdatestr\u001b[0m\u001b[0;34m[\u001b[0m\u001b[0;36m0\u001b[0m\u001b[0;34m]\u001b[0m\u001b[0;34m.\u001b[0m\u001b[0mreplace\u001b[0m\u001b[0;34m(\u001b[0m\u001b[0;34m'-'\u001b[0m\u001b[0;34m,\u001b[0m \u001b[0;34m''\u001b[0m\u001b[0;34m)\u001b[0m\u001b[0;34m\u001b[0m\u001b[0m\n\u001b[0;32m---> 30\u001b[0;31m                 \u001b[0mthehour\u001b[0m \u001b[0;34m=\u001b[0m \u001b[0mdatestr\u001b[0m\u001b[0;34m[\u001b[0m\u001b[0;36m1\u001b[0m\u001b[0;34m]\u001b[0m\u001b[0;34m.\u001b[0m\u001b[0msplit\u001b[0m\u001b[0;34m(\u001b[0m\u001b[0;34m':'\u001b[0m\u001b[0;34m)\u001b[0m\u001b[0;34m[\u001b[0m\u001b[0;36m0\u001b[0m\u001b[0;34m]\u001b[0m\u001b[0;34m\u001b[0m\u001b[0m\n\u001b[0m\u001b[1;32m     31\u001b[0m                 \u001b[0mthepoint\u001b[0m \u001b[0;34m=\u001b[0m \u001b[0mrow\u001b[0m\u001b[0;34m[\u001b[0m\u001b[0;36m3\u001b[0m\u001b[0;34m]\u001b[0m\u001b[0;34m\u001b[0m\u001b[0m\n\u001b[1;32m     32\u001b[0m                 \u001b[0;31m# 8 to 22\u001b[0m\u001b[0;34m\u001b[0m\u001b[0;34m\u001b[0m\u001b[0m\n",
      "\u001b[0;31mIndexError\u001b[0m: list index out of range"
     ]
    }
   ],
   "source": [
    "import_csv2_to_sqlite(hebei_csv_files, 'hebei')"
   ]
  },
  {
   "cell_type": "code",
   "execution_count": null,
   "metadata": {
    "collapsed": true
   },
   "outputs": [],
   "source": [
    "import_csv2_to_sqlite(tianjin_csv_files, 'tianjin')"
   ]
  }
 ],
 "metadata": {
  "kernelspec": {
   "display_name": "Python 2",
   "language": "python",
   "name": "python2"
  },
  "language_info": {
   "codemirror_mode": {
    "name": "ipython",
    "version": 2
   },
   "file_extension": ".py",
   "mimetype": "text/x-python",
   "name": "python",
   "nbconvert_exporter": "python",
   "pygments_lexer": "ipython2",
   "version": "2.7.11"
  }
 },
 "nbformat": 4,
 "nbformat_minor": 0
}
