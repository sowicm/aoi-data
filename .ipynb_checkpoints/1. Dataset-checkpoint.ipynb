{
 "cells": [
  {
   "cell_type": "markdown",
   "metadata": {},
   "source": [
    "## Obtain datasets\n",
    "\n",
    "We use the spidered datas of Beijing Municipal Environmental Monitoring Center. The datas contians hour by hour PM2.5/PM10/AQI and SO2/NO2/O3/CO numbers of 36 points in Beijing city."
   ]
  },
  {
   "cell_type": "code",
   "execution_count": 28,
   "metadata": {
    "collapsed": true
   },
   "outputs": [],
   "source": [
    "from __future__ import print_function\n",
    "import sqlite3\n",
    "import os\n",
    "from datetime import date, timedelta\n",
    "from six.moves.urllib.request import urlretrieve\n",
    "import uuid"
   ]
  },
  {
   "cell_type": "markdown",
   "metadata": {},
   "source": [
    "First, we'll download the data csv files of specific dates to our local machine."
   ]
  },
  {
   "cell_type": "code",
   "execution_count": 34,
   "metadata": {
    "collapsed": false
   },
   "outputs": [
    {
     "name": "stdout",
     "output_type": "stream",
     "text": [
      "['data/20160101.csv', 'data/20160102.csv', 'data/20160103.csv', 'data/20160104.csv', 'data/20160105.csv', 'data/20160106.csv', 'data/20160107.csv', 'data/20160108.csv', 'data/20160109.csv', 'data/20160110.csv', 'data/20160111.csv', 'data/20160112.csv', 'data/20160113.csv', 'data/20160114.csv', 'data/20160115.csv', 'data/20160116.csv', 'data/20160117.csv', 'data/20160118.csv', 'data/20160119.csv', 'data/20160120.csv', 'data/20160121.csv', 'data/20160122.csv', 'data/20160123.csv', 'data/20160124.csv', 'data/20160125.csv', 'data/20160126.csv', 'data/20160127.csv', 'data/20160128.csv', 'data/20160129.csv', 'data/20160130.csv', 'data/20160131.csv', 'data/20160201.csv', 'data/20160202.csv', 'data/20160203.csv', 'data/20160204.csv', 'data/20160205.csv', 'data/20160206.csv', 'data/20160207.csv', 'data/20160208.csv', 'data/20160209.csv', 'data/20160210.csv', 'data/20160211.csv', 'data/20160212.csv', 'data/20160213.csv', 'data/20160214.csv', 'data/20160215.csv', 'data/20160216.csv', 'data/20160217.csv', 'data/20160218.csv', 'data/20160219.csv', 'data/20160220.csv', 'data/20160221.csv', 'data/20160222.csv', 'data/20160223.csv', 'data/20160224.csv', 'data/20160225.csv', 'data/20160226.csv', 'data/20160227.csv', 'data/20160228.csv', 'data/20160229.csv', 'data/20160301.csv', 'data/20160302.csv', 'data/20160303.csv', 'data/20160304.csv', 'data/20160305.csv', 'data/20160306.csv', 'data/20160307.csv', 'data/20160308.csv', 'data/20160309.csv', 'data/20160310.csv', 'data/20160311.csv', 'data/20160312.csv', 'data/20160313.csv', 'data/20160314.csv', 'data/20160315.csv', 'data/20160316.csv', 'data/20160317.csv', 'data/20160318.csv', 'data/20160319.csv', 'data/20160320.csv', 'data/20160321.csv']\n"
     ]
    }
   ],
   "source": [
    "start_date = date(2016, 1, 1)\n",
    "end_date = date.today()\n",
    "data_folder = 'data/'\n",
    "\n",
    "#http://beijingair.sinaapp.com/data/beijing/all/20131205/csv。\n",
    "#http://beijingair-pm25.stor.sinaapp.com/beijing_all_20131205.csv\n",
    "#url = 'http://commondatastorage.googleapis.com/books1000/'\n",
    "\n",
    "def maybe_download(date, parent_folder, force=False):\n",
    "  \"\"\"Download a file if not present.\"\"\"\n",
    "  filename = os.path.join(parent_folder, date + '.csv')\n",
    "  if force or not os.path.exists(filename):\n",
    "    filename, _ = urlretrieve('http://beijingair-pm25.stor.sinaapp.com/beijing_all_' + date + '.csv', filename)\n",
    "  return filename\n",
    "\n",
    "def load_csvs(start_date, end_date):\n",
    "    if not os.path.exists(data_folder):\n",
    "        os.makedirs(data_folder)\n",
    "    d = start_date\n",
    "    results = []\n",
    "    while d < end_date:\n",
    "        results.append( maybe_download(d.strftime(\"%Y%m%d\"), data_folder) )\n",
    "        d += timedelta(days = 1)\n",
    "        \n",
    "    return results\n",
    "\n",
    "csv_files = load_csvs(start_date, end_date)\n",
    "print (csv_files)"
   ]
  },
  {
   "cell_type": "markdown",
   "metadata": {},
   "source": [
    "This site is anti-spider, so downloaded data would be corrupt. Let's fix it by phantomjs later, but at this moment, we use the data from Baidu disk."
   ]
  },
  {
   "cell_type": "code",
   "execution_count": 39,
   "metadata": {
    "collapsed": false
   },
   "outputs": [
    {
     "name": "stdout",
     "output_type": "stream",
     "text": [
      "['data/beijing_all_20160101.csv', 'data/beijing_all_20160102.csv', 'data/beijing_all_20160103.csv', 'data/beijing_all_20160104.csv', 'data/beijing_all_20160105.csv', 'data/beijing_all_20160106.csv', 'data/beijing_all_20160107.csv', 'data/beijing_all_20160108.csv', 'data/beijing_all_20160109.csv', 'data/beijing_all_20160110.csv', 'data/beijing_all_20160111.csv', 'data/beijing_all_20160112.csv', 'data/beijing_all_20160113.csv', 'data/beijing_all_20160114.csv', 'data/beijing_all_20160115.csv', 'data/beijing_all_20160116.csv', 'data/beijing_all_20160117.csv', 'data/beijing_all_20160118.csv', 'data/beijing_all_20160119.csv', 'data/beijing_all_20160120.csv', 'data/beijing_all_20160121.csv', 'data/beijing_all_20160122.csv', 'data/beijing_all_20160123.csv', 'data/beijing_all_20160124.csv', 'data/beijing_all_20160125.csv', 'data/beijing_all_20160126.csv', 'data/beijing_all_20160127.csv', 'data/beijing_all_20160128.csv', 'data/beijing_all_20160129.csv', 'data/beijing_all_20160130.csv', 'data/beijing_all_20160131.csv', 'data/beijing_all_20160201.csv', 'data/beijing_all_20160202.csv', 'data/beijing_all_20160203.csv', 'data/beijing_all_20160204.csv', 'data/beijing_all_20160205.csv', 'data/beijing_all_20160206.csv', 'data/beijing_all_20160207.csv', 'data/beijing_all_20160208.csv', 'data/beijing_all_20160209.csv', 'data/beijing_all_20160210.csv', 'data/beijing_all_20160211.csv', 'data/beijing_all_20160212.csv', 'data/beijing_all_20160213.csv', 'data/beijing_all_20160214.csv', 'data/beijing_all_20160215.csv', 'data/beijing_all_20160216.csv', 'data/beijing_all_20160217.csv', 'data/beijing_all_20160218.csv', 'data/beijing_all_20160219.csv', 'data/beijing_all_20160220.csv', 'data/beijing_all_20160221.csv', 'data/beijing_all_20160222.csv', 'data/beijing_all_20160223.csv', 'data/beijing_all_20160224.csv', 'data/beijing_all_20160225.csv', 'data/beijing_all_20160226.csv', 'data/beijing_all_20160227.csv', 'data/beijing_all_20160228.csv', 'data/beijing_all_20160229.csv', 'data/beijing_all_20160301.csv', 'data/beijing_all_20160302.csv', 'data/beijing_all_20160303.csv', 'data/beijing_all_20160304.csv', 'data/beijing_all_20160305.csv', 'data/beijing_all_20160306.csv', 'data/beijing_all_20160307.csv', 'data/beijing_all_20160308.csv', 'data/beijing_all_20160309.csv', 'data/beijing_all_20160310.csv', 'data/beijing_all_20160311.csv', 'data/beijing_all_20160312.csv', 'data/beijing_all_20160313.csv', 'data/beijing_all_20160314.csv', 'data/beijing_all_20160315.csv', 'data/beijing_all_20160316.csv', 'data/beijing_all_20160317.csv', 'data/beijing_all_20160318.csv', 'data/beijing_all_20160319.csv', 'data/beijing_extra_20160101.csv', 'data/beijing_extra_20160102.csv', 'data/beijing_extra_20160103.csv', 'data/beijing_extra_20160104.csv', 'data/beijing_extra_20160105.csv', 'data/beijing_extra_20160106.csv', 'data/beijing_extra_20160107.csv', 'data/beijing_extra_20160108.csv', 'data/beijing_extra_20160109.csv', 'data/beijing_extra_20160110.csv', 'data/beijing_extra_20160111.csv', 'data/beijing_extra_20160112.csv', 'data/beijing_extra_20160113.csv', 'data/beijing_extra_20160114.csv', 'data/beijing_extra_20160115.csv', 'data/beijing_extra_20160116.csv', 'data/beijing_extra_20160117.csv', 'data/beijing_extra_20160118.csv', 'data/beijing_extra_20160119.csv', 'data/beijing_extra_20160120.csv', 'data/beijing_extra_20160121.csv', 'data/beijing_extra_20160122.csv', 'data/beijing_extra_20160123.csv', 'data/beijing_extra_20160124.csv', 'data/beijing_extra_20160125.csv', 'data/beijing_extra_20160126.csv', 'data/beijing_extra_20160127.csv', 'data/beijing_extra_20160128.csv', 'data/beijing_extra_20160129.csv', 'data/beijing_extra_20160130.csv', 'data/beijing_extra_20160131.csv', 'data/beijing_extra_20160201.csv', 'data/beijing_extra_20160202.csv', 'data/beijing_extra_20160203.csv', 'data/beijing_extra_20160204.csv', 'data/beijing_extra_20160205.csv', 'data/beijing_extra_20160206.csv', 'data/beijing_extra_20160207.csv', 'data/beijing_extra_20160208.csv', 'data/beijing_extra_20160209.csv', 'data/beijing_extra_20160210.csv', 'data/beijing_extra_20160211.csv', 'data/beijing_extra_20160212.csv', 'data/beijing_extra_20160213.csv', 'data/beijing_extra_20160214.csv', 'data/beijing_extra_20160215.csv', 'data/beijing_extra_20160216.csv', 'data/beijing_extra_20160217.csv', 'data/beijing_extra_20160218.csv', 'data/beijing_extra_20160219.csv', 'data/beijing_extra_20160220.csv', 'data/beijing_extra_20160221.csv', 'data/beijing_extra_20160222.csv', 'data/beijing_extra_20160223.csv', 'data/beijing_extra_20160224.csv', 'data/beijing_extra_20160225.csv', 'data/beijing_extra_20160226.csv', 'data/beijing_extra_20160227.csv', 'data/beijing_extra_20160228.csv', 'data/beijing_extra_20160229.csv', 'data/beijing_extra_20160301.csv', 'data/beijing_extra_20160302.csv', 'data/beijing_extra_20160303.csv', 'data/beijing_extra_20160304.csv', 'data/beijing_extra_20160305.csv', 'data/beijing_extra_20160306.csv', 'data/beijing_extra_20160307.csv', 'data/beijing_extra_20160308.csv', 'data/beijing_extra_20160309.csv', 'data/beijing_extra_20160310.csv', 'data/beijing_extra_20160311.csv', 'data/beijing_extra_20160312.csv', 'data/beijing_extra_20160313.csv', 'data/beijing_extra_20160314.csv', 'data/beijing_extra_20160315.csv', 'data/beijing_extra_20160316.csv', 'data/beijing_extra_20160317.csv', 'data/beijing_extra_20160318.csv', 'data/beijing_extra_20160319.csv']\n"
     ]
    }
   ],
   "source": [
    "csv_files = [\n",
    "    os.path.join(data_folder, d) for d in sorted(os.listdir(data_folder))\n",
    "    if d != '.DS_Store']\n",
    "print (csv_files)"
   ]
  },
  {
   "cell_type": "markdown",
   "metadata": {},
   "source": [
    "Now let's import csv files to sqlite database."
   ]
  },
  {
   "cell_type": "markdown",
   "metadata": {},
   "source": [
    "CREATE TABLE AQI (\n",
    "  uuid text PRIMARY KEY NOT NULL,\n",
    "  date char(16),\n",
    "  hour integer(128),\n",
    "  type text(128),\n",
    "  point text(128),\n",
    "  value integer(128)\n",
    ");\n",
    "\n",
    "CREATE TABLE Points (\n",
    "  uuid text PRIMARY KEY NOT NULL,\n",
    "  name text(128)\n",
    ");"
   ]
  },
  {
   "cell_type": "code",
   "execution_count": 83,
   "metadata": {
    "collapsed": false
   },
   "outputs": [
    {
     "name": "stdout",
     "output_type": "stream",
     "text": [
      "data/beijing_all_20160101.csv\n",
      "data/beijing_all_20160102.csv\n",
      "data/beijing_all_20160103.csv\n",
      "data/beijing_all_20160104.csv\n",
      "data/beijing_all_20160105.csv\n",
      "data/beijing_all_20160106.csv\n",
      "data/beijing_all_20160107.csv\n",
      "data/beijing_all_20160108.csv\n",
      "data/beijing_all_20160109.csv\n",
      "data/beijing_all_20160110.csv\n",
      "data/beijing_all_20160111.csv\n",
      "data/beijing_all_20160112.csv\n",
      "data/beijing_all_20160113.csv\n",
      "data/beijing_all_20160114.csv\n",
      "data/beijing_all_20160115.csv\n",
      "data/beijing_all_20160116.csv\n",
      "data/beijing_all_20160117.csv\n",
      "data/beijing_all_20160118.csv\n",
      "data/beijing_all_20160119.csv\n",
      "data/beijing_all_20160120.csv\n",
      "data/beijing_all_20160121.csv\n",
      "data/beijing_all_20160122.csv\n",
      "data/beijing_all_20160123.csv\n",
      "data/beijing_all_20160124.csv\n",
      "data/beijing_all_20160125.csv\n",
      "data/beijing_all_20160126.csv\n",
      "data/beijing_all_20160127.csv\n",
      "data/beijing_all_20160128.csv\n",
      "data/beijing_all_20160129.csv\n",
      "data/beijing_all_20160130.csv\n",
      "data/beijing_all_20160131.csv\n",
      "data/beijing_all_20160201.csv\n",
      "data/beijing_all_20160202.csv\n",
      "data/beijing_all_20160203.csv\n",
      "data/beijing_all_20160204.csv\n",
      "data/beijing_all_20160205.csv\n",
      "data/beijing_all_20160206.csv\n",
      "data/beijing_all_20160207.csv\n",
      "data/beijing_all_20160208.csv\n",
      "data/beijing_all_20160209.csv\n",
      "data/beijing_all_20160210.csv\n",
      "data/beijing_all_20160211.csv\n",
      "data/beijing_all_20160212.csv\n",
      "data/beijing_all_20160213.csv\n",
      "data/beijing_all_20160214.csv\n",
      "data/beijing_all_20160215.csv\n",
      "data/beijing_all_20160216.csv\n",
      "data/beijing_all_20160217.csv\n",
      "data/beijing_all_20160218.csv\n",
      "data/beijing_all_20160219.csv\n",
      "data/beijing_all_20160220.csv\n",
      "data/beijing_all_20160221.csv\n",
      "data/beijing_all_20160222.csv\n",
      "data/beijing_all_20160223.csv\n",
      "data/beijing_all_20160224.csv\n",
      "data/beijing_all_20160225.csv\n",
      "data/beijing_all_20160226.csv\n",
      "data/beijing_all_20160227.csv\n",
      "data/beijing_all_20160228.csv\n",
      "data/beijing_all_20160229.csv\n",
      "data/beijing_all_20160301.csv\n",
      "data/beijing_all_20160302.csv\n",
      "data/beijing_all_20160303.csv\n",
      "data/beijing_all_20160304.csv\n",
      "data/beijing_all_20160305.csv\n",
      "data/beijing_all_20160306.csv\n",
      "data/beijing_all_20160307.csv\n",
      "data/beijing_all_20160308.csv\n",
      "data/beijing_all_20160309.csv\n",
      "data/beijing_all_20160310.csv\n",
      "data/beijing_all_20160311.csv\n",
      "data/beijing_all_20160312.csv\n",
      "data/beijing_all_20160313.csv\n",
      "data/beijing_all_20160314.csv\n",
      "data/beijing_all_20160315.csv\n",
      "data/beijing_all_20160316.csv\n",
      "data/beijing_all_20160317.csv\n",
      "data/beijing_all_20160318.csv\n",
      "data/beijing_all_20160319.csv\n",
      "data/beijing_extra_20160101.csv\n",
      "data/beijing_extra_20160102.csv\n"
     ]
    },
    {
     "ename": "KeyboardInterrupt",
     "evalue": "",
     "output_type": "error",
     "traceback": [
      "\u001b[0;31m---------------------------------------------------------------------------\u001b[0m",
      "\u001b[0;31mKeyboardInterrupt\u001b[0m                         Traceback (most recent call last)",
      "\u001b[0;32m<ipython-input-83-9e550a4e2b72>\u001b[0m in \u001b[0;36m<module>\u001b[0;34m()\u001b[0m\n\u001b[1;32m     33\u001b[0m \u001b[0;34m\u001b[0m\u001b[0m\n\u001b[1;32m     34\u001b[0m \u001b[0;34m\u001b[0m\u001b[0m\n\u001b[0;32m---> 35\u001b[0;31m \u001b[0mimport_csv_to_sqlite\u001b[0m\u001b[0;34m(\u001b[0m\u001b[0mcsv_files\u001b[0m\u001b[0;34m)\u001b[0m\u001b[0;34m\u001b[0m\u001b[0m\n\u001b[0m\u001b[1;32m     36\u001b[0m \u001b[0;34m\u001b[0m\u001b[0m\n\u001b[1;32m     37\u001b[0m \u001b[0;34m\u001b[0m\u001b[0m\n",
      "\u001b[0;32m<ipython-input-83-9e550a4e2b72>\u001b[0m in \u001b[0;36mimport_csv_to_sqlite\u001b[0;34m(files)\u001b[0m\n\u001b[1;32m     28\u001b[0m                     \u001b[0;31m#print(i)\u001b[0m\u001b[0;34m\u001b[0m\u001b[0;34m\u001b[0m\u001b[0m\n\u001b[1;32m     29\u001b[0m                     \u001b[0mconn\u001b[0m\u001b[0;34m.\u001b[0m\u001b[0mexecute\u001b[0m\u001b[0;34m(\u001b[0m                        \u001b[0;34m\"insert into AQI (`uuid`, `date`, `hour`, `type`, `point`, `value`) values \"\u001b[0m \u001b[0;34m+\u001b[0m                          \u001b[0;34m\"('%s','%s',%s,'%s','%s',%s);\"\u001b[0m \u001b[0;34m%\u001b[0m \u001b[0;34m(\u001b[0m\u001b[0muuid\u001b[0m\u001b[0;34m.\u001b[0m\u001b[0muuid1\u001b[0m\u001b[0;34m(\u001b[0m\u001b[0;34m)\u001b[0m\u001b[0;34m,\u001b[0m \u001b[0mthedate\u001b[0m\u001b[0;34m,\u001b[0m \u001b[0mthehour\u001b[0m\u001b[0;34m,\u001b[0m \u001b[0mthetype\u001b[0m\u001b[0;34m,\u001b[0m \u001b[0mheader\u001b[0m\u001b[0;34m[\u001b[0m\u001b[0mi\u001b[0m\u001b[0;34m]\u001b[0m\u001b[0;34m,\u001b[0m \u001b[0mrow\u001b[0m\u001b[0;34m[\u001b[0m\u001b[0mi\u001b[0m\u001b[0;34m]\u001b[0m\u001b[0;34m)\u001b[0m\u001b[0;34m)\u001b[0m\u001b[0;34m\u001b[0m\u001b[0m\n\u001b[0;32m---> 30\u001b[0;31m                     \u001b[0mconn\u001b[0m\u001b[0;34m.\u001b[0m\u001b[0mcommit\u001b[0m\u001b[0;34m(\u001b[0m\u001b[0;34m)\u001b[0m\u001b[0;34m\u001b[0m\u001b[0m\n\u001b[0m\u001b[1;32m     31\u001b[0m \u001b[0;34m\u001b[0m\u001b[0m\n\u001b[1;32m     32\u001b[0m                 \u001b[0mline\u001b[0m \u001b[0;34m=\u001b[0m \u001b[0mf\u001b[0m\u001b[0;34m.\u001b[0m\u001b[0mreadline\u001b[0m\u001b[0;34m(\u001b[0m\u001b[0;34m)\u001b[0m\u001b[0;34m\u001b[0m\u001b[0m\n",
      "\u001b[0;31mKeyboardInterrupt\u001b[0m: "
     ]
    }
   ],
   "source": [
    "db_filename = 'beijing.sqlite'\n",
    "\n",
    "def import_csv_to_sqlite(files):\n",
    "    conn = sqlite3.connect(db_filename)\n",
    "    for fn in files:\n",
    "        print(fn)\n",
    "        with open(fn, 'rb') as f:\n",
    "            line = f.readline()\n",
    "            #print(line)\n",
    "            header = line.split(',')\n",
    "            #print(header)\n",
    "            line = f.readline()\n",
    "            while line:\n",
    "                line = line.replace('\\n','')\n",
    "                line = line.replace('\\r','')\n",
    "                #print(line)\n",
    "                row = line.split(',')\n",
    "                thedate = row[0]\n",
    "                thehour = row[1]\n",
    "                thetype = row[2]\n",
    "                for i in xrange(len(row)):\n",
    "                    if i < 3:\n",
    "                        continue\n",
    "                    if len(row[i]) < 1:\n",
    "                        continue\n",
    "                    if i >= len(header):\n",
    "                        break\n",
    "                    #print(i)\n",
    "                    conn.execute(\\\n",
    "                        \"insert into AQI (`uuid`, `date`, `hour`, `type`, `point`, `value`) values \" + \\\n",
    "                         \"('%s','%s',%s,'%s','%s',%s);\" % (uuid.uuid1(), thedate, thehour, thetype, header[i], row[i]))\n",
    "                    conn.commit()\n",
    "                    \n",
    "                line = f.readline()\n",
    "    \n",
    "\n",
    "import_csv_to_sqlite(csv_files)\n",
    "\n",
    "\n"
   ]
  }
 ],
 "metadata": {
  "kernelspec": {
   "display_name": "Python 2",
   "language": "python",
   "name": "python2"
  },
  "language_info": {
   "codemirror_mode": {
    "name": "ipython",
    "version": 2
   },
   "file_extension": ".py",
   "mimetype": "text/x-python",
   "name": "python",
   "nbconvert_exporter": "python",
   "pygments_lexer": "ipython2",
   "version": "2.7.11"
  }
 },
 "nbformat": 4,
 "nbformat_minor": 0
}
